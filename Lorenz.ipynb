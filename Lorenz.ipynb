{
 "cells": [
  {
   "cell_type": "markdown",
   "metadata": {},
   "source": [
    "# Dínamica no lineal y caos de sistemas físicos"
   ]
  },
  {
   "cell_type": "markdown",
   "metadata": {},
   "source": [
    "## Introducción"
   ]
  },
  {
   "cell_type": "markdown",
   "metadata": {},
   "source": [
    "Comenzamos estableciendo definiciones y conceptos que serán de utilidad a lo largo del proyecto."
   ]
  },
  {
   "cell_type": "markdown",
   "metadata": {},
   "source": [
    "**DEFINICIÓN:** Un **sistema físico** denota un arreglo de puntos en el espacio y en el tiempo que cumplen ciertas propiedades. A saber cumplen tener asociados campos escaleres: masa, carga, densidad, temperatura, etc; ó campos vectoriales ya sea vectores de campo electromágnetico, gravitacional, campo de velocidades, vectores de fuerza, torca, etc.    \n",
    "\n",
    "**DEFINICIÓN:** En Física conocer **la dinámica de un sistema compuesto por particulas**, significa conocer las posiciones y las velocidades en cada punto del espacio, en cada instante de tiempo.\n",
    "\n",
    "**DEFINICIÓN:** El **Espacio fase de una partícula** denota al lugar geometrico determinado por las posiciones espaciales y coordenadas de las velocidades, para un intervalo de tiempo determinado.\n",
    "\n",
    "**CONCEPTO:** Decimos que un sistema de partículas experimenta una **Dinámica no lineal** si las relaciones que describen el movimiento de las partículas son no lineales en el dominio de definición.\n",
    "\n",
    "**CONCEPTO:** Cuando hablemos de **Caos** en un cierto dominino nos referimos a que dadas al menos dos configuraciones iniciales arbitrariamente cercanas, las cuales evolucionan en el tiempo mediante la misma regla de correspondencia, describiendo trayectorias \"tan diferentes\" que sea imposible determinar el grado de distinguibilidad en tiempos posteriores.   \n",
    "\n",
    "\n",
    "\n",
    "\n",
    "\n"
   ]
  },
  {
   "cell_type": "markdown",
   "metadata": {},
   "source": [
    "****Definiciones Párticulares, para describir el modelo de Lorenz... ** **\n",
    "\n",
    "** CONCEPTO: ** Al hablar de un **atractor** nos referimos... "
   ]
  },
  {
   "cell_type": "markdown",
   "metadata": {},
   "source": [
    " ### Un  poco de historia"
   ]
  },
  {
   "cell_type": "markdown",
   "metadata": {},
   "source": [
    "En 1963 Lorenz, en un artículo describió una familia tridimensional de tres ecuaciones diferenciales. Al solucionarlas directamente en una computadora mostraban soluciones extremamente complicadas. \n",
    "\n",
    "Lorenz buscaba una conjunto tridimensional de ecuaciones diferenciales que podrían modelar el impredecible comportamiento asociado al clima. Estas ecuaciones se derivan de la ecuación de Navier-Stokes de fluidos. \n",
    "\n"
   ]
  },
  {
   "cell_type": "code",
   "execution_count": null,
   "metadata": {
    "collapsed": true
   },
   "outputs": [],
   "source": []
  }
 ],
 "metadata": {
  "kernelspec": {
   "display_name": "Julia 0.3.11",
   "language": "julia",
   "name": "julia-0.3"
  },
  "language_info": {
   "name": "julia",
   "version": "0.3.11"
  }
 },
 "nbformat": 4,
 "nbformat_minor": 0
}
